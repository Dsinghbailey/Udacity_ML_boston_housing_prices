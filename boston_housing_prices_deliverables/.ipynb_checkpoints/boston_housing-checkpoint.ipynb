{
 "cells": [
  {
   "cell_type": "markdown",
   "metadata": {},
   "source": [
    "# Machine Learning Engineer Nanodegree\n",
    "## Model Evaluation & Validation\n",
    "## Project 1: Predicting Boston Housing Prices\n",
    "\n",
    "Welcome to the first project of the Machine Learning Engineer Nanodegree! In this notebook, some template code has already been written. You will need to implement additional functionality to successfully answer all of the questions for this project. Unless it is requested, do not modify any of the code that has already been included. In this template code, there are four sections which you must complete to successfully produce a prediction with your model. Each section where you will write code is preceded by a **STEP X** header with comments describing what must be done. Please read the instructions carefully!\n",
    "\n",
    "In addition to implementing code, there will be questions that you must answer that relate to the project and your implementation. Each section where you will answer a question is preceded by a **QUESTION X** header. Be sure that you have carefully read each question and provide thorough answers in the text boxes that begin with \"**Answer:**\". Your project submission will be evaluated based on your answers to each of the questions.  \n",
    "\n",
    "A description of the dataset can be found [here](https://archive.ics.uci.edu/ml/datasets/Housing), which is provided by the **UCI Machine Learning Repository**."
   ]
  },
  {
   "cell_type": "markdown",
   "metadata": {},
   "source": [
    "# Getting Started\n",
    "To familiarize yourself with an iPython Notebook, **try double clicking on this cell**. You will notice that the text changes so that all the formatting is removed. This allows you to make edits to the block of text you see here. This block of text (and mostly anything that's not code) is written using [Markdown](http://daringfireball.net/projects/markdown/syntax), which is a way to format text using headers, links, italics, and many other options! Whether you're editing a Markdown text block or a code block (like the one below), you can use the keyboard shortcut **Shift + Enter** or **Shift + Return** to execute the code or text block. In this case, it will show the formatted text.\n",
    "\n",
    "Let's start by setting up some code we will need to get the rest of the project up and running. Use the keyboard shortcut mentioned above on the following code block to execute it. Alternatively, depending on your iPython Notebook program, you can press the **Play** button in the hotbar. You'll know the code block executes successfully if the message *\"Boston Housing dataset loaded successfully!\"* is printed."
   ]
  },
  {
   "cell_type": "code",
   "execution_count": 15,
   "metadata": {
    "collapsed": false
   },
   "outputs": [
    {
     "name": "stdout",
     "output_type": "stream",
     "text": [
      "Boston Housing dataset loaded successfully!\n"
     ]
    }
   ],
   "source": [
    "# Importing a few necessary libraries\n",
    "import numpy as np\n",
    "import matplotlib.pyplot as pl\n",
    "from sklearn import datasets\n",
    "from sklearn.tree import DecisionTreeRegressor\n",
    "\n",
    "# Make matplotlib show our plots inline (nicely formatted in the notebook)\n",
    "%matplotlib inline\n",
    "\n",
    "# Create our client's feature set for which we will be predicting a selling price\n",
    "CLIENT_FEATURES = [[11.95, 0.00, 18.100, 0, 0.6590, 5.6090, 90.00, 1.385, 24, 680.0, 20.20, 332.09, 12.13]]\n",
    "\n",
    "# Load the Boston Housing dataset into the city_data variable\n",
    "city_data = datasets.load_boston()\n",
    "\n",
    "# Initialize the housing prices and housing features\n",
    "housing_prices = city_data.target\n",
    "housing_features = city_data.data\n",
    "\n",
    "print \"Boston Housing dataset loaded successfully!\""
   ]
  },
  {
   "cell_type": "markdown",
   "metadata": {},
   "source": [
    "# Statistical Analysis and Data Exploration\n",
    "In this first section of the project, you will quickly investigate a few basic statistics about the dataset you are working with. In addition, you'll look at the client's feature set in `CLIENT_FEATURES` and see how this particular sample relates to the features of the dataset. Familiarizing yourself with the data through an explorative process is a fundamental practice to help you better understand your results."
   ]
  },
  {
   "cell_type": "markdown",
   "metadata": {},
   "source": [
    "## Step 1\n",
    "In the code block below, use the imported `numpy` library to calculate the requested statistics. You will need to replace each `None` you find with the appropriate `numpy` coding for the proper statistic to be printed. Be sure to execute the code block each time to test if your implementation is working successfully. The print statements will show the statistics you calculate!"
   ]
  },
  {
   "cell_type": "code",
   "execution_count": 16,
   "metadata": {
    "collapsed": false
   },
   "outputs": [
    {
     "name": "stdout",
     "output_type": "stream",
     "text": [
      "Boston Housing dataset statistics (in $1000's):\n",
      "\n",
      "Total number of houses: 506\n",
      "Total number of features: 13\n",
      "Minimum house price: 5.0\n",
      "Maximum house price: 50.0\n",
      "Mean house price: 22.533\n",
      "Median house price: 21.2\n",
      "Standard deviation of house price: 9.188\n"
     ]
    }
   ],
   "source": [
    "# Number of houses in the dataset\n",
    "total_houses = housing_prices.size\n",
    "\n",
    "# Number of features in the dataset\n",
    "total_features = housing_features.shape[1]\n",
    "\n",
    "# Minimum housing value in the dataset\n",
    "minimum_price = np.min(housing_prices)\n",
    "\n",
    "# Maximum housing value in the dataset\n",
    "maximum_price = np.max(housing_prices)\n",
    "\n",
    "# Mean house value of the dataset\n",
    "mean_price = np.mean(housing_prices)\n",
    "\n",
    "# Median house value of the dataset\n",
    "median_price = np.median(housing_prices)\n",
    "\n",
    "# Standard deviation of housing values of the dataset\n",
    "std_dev = np.std(housing_prices)\n",
    "\n",
    "# Show the calculated statistics\n",
    "print \"Boston Housing dataset statistics (in $1000's):\\n\"\n",
    "print \"Total number of houses:\", total_houses\n",
    "print \"Total number of features:\", total_features\n",
    "print \"Minimum house price:\", minimum_price\n",
    "print \"Maximum house price:\", maximum_price\n",
    "print \"Mean house price: {0:.3f}\".format(mean_price)\n",
    "print \"Median house price:\", median_price\n",
    "print \"Standard deviation of house price: {0:.3f}\".format(std_dev)"
   ]
  },
  {
   "cell_type": "markdown",
   "metadata": {},
   "source": [
    "## Question 1\n",
    "As a reminder, you can view a description of the Boston Housing dataset [here](https://archive.ics.uci.edu/ml/datasets/Housing), where you can find the different features under **Attribute Information**. The `MEDV` attribute relates to the values stored in our `housing_prices` variable, so we do not consider that a feature of the data.\n",
    "\n",
    "*Of the features available for each data point, choose three that you feel are significant and give a brief description for each of what they measure.*\n",
    "\n",
    "Remember, you can **double click the text box below** to add your answer!"
   ]
  },
  {
   "cell_type": "markdown",
   "metadata": {},
   "source": [
    "**Answer: **\n",
    "CRIM: A measure of neighborhood safety. Seems like a good indicator.\n",
    "\n",
    "CHAS: Is there riverfront property on the tract? Seems like that would raise prices.\n",
    "\n",
    "LSTAT: % of lower Status people in the pop. I would expect that as LSTAT goes up, price decreases."
   ]
  },
  {
   "cell_type": "markdown",
   "metadata": {},
   "source": [
    "## Question 2\n",
    "*Using your client's feature set `CLIENT_FEATURES`, which values correspond with the features you've chosen above?*  \n",
    "**Hint: ** Run the code block below to see the client's data."
   ]
  },
  {
   "cell_type": "code",
   "execution_count": 17,
   "metadata": {
    "collapsed": false
   },
   "outputs": [
    {
     "name": "stdout",
     "output_type": "stream",
     "text": [
      "[[11.95, 0.0, 18.1, 0, 0.659, 5.609, 90.0, 1.385, 24, 680.0, 20.2, 332.09, 12.13]]\n"
     ]
    }
   ],
   "source": [
    "print CLIENT_FEATURES"
   ]
  },
  {
   "cell_type": "markdown",
   "metadata": {},
   "source": [
    "**Answer: **\n",
    "CRIM: 11.95\n",
    "CHAS: 0\n",
    "LSTAT:12.13"
   ]
  },
  {
   "cell_type": "markdown",
   "metadata": {},
   "source": [
    "# Evaluating Model Performance\n",
    "In this second section of the project, you will begin to develop the tools necessary for a model to make a prediction. Being able to accurately evaluate each model's performance through the use of these tools helps to greatly reinforce the confidence in your predictions."
   ]
  },
  {
   "cell_type": "markdown",
   "metadata": {},
   "source": [
    "## Step 2\n",
    "In the code block below, you will need to implement code so that the `shuffle_split_data` function does the following:\n",
    "- Randomly shuffle the input data `X` and target labels (housing values) `y`.\n",
    "- Split the data into training and testing subsets, holding 30% of the data for testing.\n",
    "\n",
    "If you use any functions not already acessible from the imported libraries above, remember to include your import statement below as well!   \n",
    "Ensure that you have executed the code block once you are done. You'll know the `shuffle_split_data` function is working if the statement *\"Successfully shuffled and split the data!\"* is printed."
   ]
  },
  {
   "cell_type": "code",
   "execution_count": 18,
   "metadata": {
    "collapsed": false
   },
   "outputs": [
    {
     "name": "stdout",
     "output_type": "stream",
     "text": [
      "Successfully shuffled and split the data!\n"
     ]
    }
   ],
   "source": [
    "# Put any import statements you need for this code block here\n",
    "from sklearn.cross_validation import train_test_split\n",
    "\n",
    "def shuffle_split_data(X, y):\n",
    "    \"\"\" Shuffles and splits data into 70% training and 30% testing subsets,\n",
    "        then returns the training and testing subsets. \"\"\"\n",
    "\n",
    "    # Shuffle and split the data\n",
    "    X_train, X_test, y_train, y_test = train_test_split(X, y, train_size=0.7, random_state=None)\n",
    "\n",
    "\n",
    "    # Return the training and testing data subsets\n",
    "    return X_train, y_train, X_test, y_test\n",
    "\n",
    "\n",
    "# Test shuffle_split_data\n",
    "try:\n",
    "    X_train, y_train, X_test, y_test = shuffle_split_data(housing_features, housing_prices)\n",
    "    print \"Successfully shuffled and split the data!\"\n",
    "except:\n",
    "    print \"Something went wrong with shuffling and splitting the data.\""
   ]
  },
  {
   "cell_type": "markdown",
   "metadata": {},
   "source": [
    "## Question 3\n",
    "*Why do we split the data into training and testing subsets for our model?*"
   ]
  },
  {
   "cell_type": "markdown",
   "metadata": {},
   "source": [
    "**Answer: **\n",
    "\n",
    "Without a testing subset we could not accurately predict the performance of the model, and of course we need a training subset to fit the model."
   ]
  },
  {
   "cell_type": "markdown",
   "metadata": {},
   "source": [
    "## Step 3\n",
    "In the code block below, you will need to implement code so that the `performance_metric` function does the following:\n",
    "- Perform a total error calculation between the true values of the `y` labels `y_true` and the predicted values of the `y` labels `y_predict`.\n",
    "\n",
    "You will need to first choose an appropriate performance metric for this problem. See [the sklearn metrics documentation](http://scikit-learn.org/stable/modules/classes.html#sklearn-metrics-metrics) to view a list of available metric functions. **Hint: ** Look at the question below to see a list of the metrics that were covered in the supporting course for this project.\n",
    "\n",
    "Once you have determined which metric you will use, remember to include the necessary import statement as well!  \n",
    "Ensure that you have executed the code block once you are done. You'll know the `performance_metric` function is working if the statement *\"Successfully performed a metric calculation!\"* is printed."
   ]
  },
  {
   "cell_type": "code",
   "execution_count": 19,
   "metadata": {
    "collapsed": false
   },
   "outputs": [
    {
     "name": "stdout",
     "output_type": "stream",
     "text": [
      "0.0\n",
      "Successfully performed a metric calculation!\n"
     ]
    }
   ],
   "source": [
    "# Put any import statements you need for this code block here\n",
    "from sklearn.metrics import mean_absolute_error\n",
    "\n",
    "def performance_metric(y_true, y_predict):\n",
    "    \"\"\" Calculates and returns the total error between true and predicted values\n",
    "        based on a performance metric chosen by the student. \"\"\"\n",
    "    error = mean_absolute_error(y_true, y_predict)\n",
    "    print(error)\n",
    "    return error\n",
    "\n",
    "\n",
    "# Test performance_metric\n",
    "try:\n",
    "    total_error = performance_metric(y_train, y_train)\n",
    "    print \"Successfully performed a metric calculation!\"\n",
    "except:\n",
    "    print \"Something went wrong with performing a metric calculation.\""
   ]
  },
  {
   "cell_type": "markdown",
   "metadata": {},
   "source": [
    "## Question 4\n",
    "*Which performance metric below did you find was most appropriate for predicting housing prices and analyzing the total error. Why?*\n",
    "- *Accuracy*\n",
    "- *Precision*\n",
    "- *Recall*\n",
    "- *F1 Score*\n",
    "- *Mean Squared Error (MSE)*\n",
    "- *Mean Absolute Error (MAE)*"
   ]
  },
  {
   "cell_type": "markdown",
   "metadata": {},
   "source": [
    "**Answer: ** \n",
    "\n",
    "The first 4 are bad choices because they work better with discrete predictions. \n",
    "I would say that being off by 8000 is exactly twice as bad as being off by 4000 so MAE is the right choice."
   ]
  },
  {
   "cell_type": "markdown",
   "metadata": {},
   "source": [
    "## Step 4 (Final Step)\n",
    "In the code block below, you will need to implement code so that the `fit_model` function does the following:\n",
    "- Create a scoring function using the same performance metric as in **Step 2**. See the [sklearn `make_scorer` documentation](http://scikit-learn.org/stable/modules/generated/sklearn.metrics.make_scorer.html).\n",
    "- Build a GridSearchCV object using `regressor`, `parameters`, and `scoring_function`. See the [sklearn documentation on GridSearchCV](http://scikit-learn.org/stable/modules/generated/sklearn.grid_search.GridSearchCV.html).\n",
    "\n",
    "When building the scoring function and GridSearchCV object, *be sure that you read the parameters documentation thoroughly.* It is not always the case that a default parameter for a function is the appropriate setting for the problem you are working on.\n",
    "\n",
    "Since you are using `sklearn` functions, remember to include the necessary import statements below as well!  \n",
    "Ensure that you have executed the code block once you are done. You'll know the `fit_model` function is working if the statement *\"Successfully fit a model to the data!\"* is printed."
   ]
  },
  {
   "cell_type": "code",
   "execution_count": 20,
   "metadata": {
    "collapsed": false
   },
   "outputs": [
    {
     "name": "stdout",
     "output_type": "stream",
     "text": [
      "Successfully fit a model!\n"
     ]
    }
   ],
   "source": [
    "# Put any import statements you need for this code block\n",
    "from sklearn import grid_search as gs\n",
    "from sklearn.metrics import make_scorer\n",
    "def fit_model(X, y):\n",
    "    \"\"\" Tunes a decision tree regressor model using GridSearchCV on the input data X \n",
    "        and target labels y and returns this optimal model. \"\"\"\n",
    "\n",
    "    # Create a decision tree regressor object\n",
    "    regressor = DecisionTreeRegressor()\n",
    "\n",
    "    # Set up the parameters we wish to tune\n",
    "    parameters = {'max_depth':(1,2,3,4,5,6,7,8,9,10)}\n",
    "\n",
    "    # Make an appropriate scoring function\n",
    "    scoring_function = make_scorer(mean_absolute_error, greater_is_better=False)\n",
    "\n",
    "    # Make the GridSearchCV object\n",
    "    reg = gs.GridSearchCV(regressor, parameters, scoring_function)\n",
    "\n",
    "    # Fit the learner to the data to obtain the optimal model with tuned parameters\n",
    "    reg.fit(X, y)\n",
    "\n",
    "    # Return the optimal model\n",
    "    return reg.best_estimator_\n",
    "\n",
    "\n",
    "# Test fit_model on entire dataset\n",
    "try:\n",
    "    reg = fit_model(housing_features, housing_prices)\n",
    "    print \"Successfully fit a model!\"\n",
    "except:\n",
    "    print \"Something went wrong with fitting a model.\""
   ]
  },
  {
   "cell_type": "markdown",
   "metadata": {},
   "source": [
    "## Question 5\n",
    "*What is the grid search algorithm and when is it applicable?*"
   ]
  },
  {
   "cell_type": "markdown",
   "metadata": {},
   "source": [
    "**Answer: ** GSA is a brute force hyperparameter optimizer. It is applicable when: \n",
    "A: we need some hyperparameter optimization to build a model (ex. don't want to test parameter importance manually)\n",
    "B: the data is not overwhemingly large or you have a lot of computing power as GSA is often emarassingly parallel. "
   ]
  },
  {
   "cell_type": "markdown",
   "metadata": {},
   "source": [
    "## Question 6\n",
    "*What is cross-validation, and how is it performed on a model? Why would cross-validation be helpful when using grid search?*"
   ]
  },
  {
   "cell_type": "markdown",
   "metadata": {},
   "source": [
    "**Answer: ** cross-validation is the action of splitting a set into a training and a testing subset in multiple rounds, then averaging the model validation results across rounds in order to better generalize a model for an indepedent data set. Cross-validation is more helpful for grid search than just one validation round because cross-validation cuts down on both the amount of data needed and the variance created by fitting the model to just one data set. "
   ]
  },
  {
   "cell_type": "markdown",
   "metadata": {},
   "source": [
    "# Checkpoint!\n",
    "You have now successfully completed your last code implementation section. Pat yourself on the back! All of your functions written above will be executed in the remaining sections below, and questions will be asked about various results for you to analyze. To prepare the **Analysis** and **Prediction** sections, you will need to intialize the two functions below. Remember, there's no need to implement any more code, so sit back and execute the code blocks! Some code comments are provided if you find yourself interested in the functionality."
   ]
  },
  {
   "cell_type": "code",
   "execution_count": 21,
   "metadata": {
    "collapsed": true
   },
   "outputs": [],
   "source": [
    "def learning_curves(X_train, y_train, X_test, y_test):\n",
    "    \"\"\" Calculates the performance of several models with varying sizes of training data.\n",
    "        The learning and testing error rates for each model are then plotted. \"\"\"\n",
    "    \n",
    "    print \"Creating learning curve graphs for max_depths of 1, 3, 6, and 10. . .\"\n",
    "    \n",
    "    # Create the figure window\n",
    "    fig = pl.figure(figsize=(10,8))\n",
    "\n",
    "    # We will vary the training set size so that we have 50 different sizes\n",
    "    sizes = np.rint(np.linspace(1, len(X_train), 50)).astype(int)\n",
    "    train_err = np.zeros(len(sizes))\n",
    "    test_err = np.zeros(len(sizes))\n",
    "\n",
    "    # Create four different models based on max_depth\n",
    "    for k, depth in enumerate([1,3,6,10]):\n",
    "        \n",
    "        for i, s in enumerate(sizes):\n",
    "            \n",
    "            # Setup a decision tree regressor so that it learns a tree with max_depth = depth\n",
    "            regressor = DecisionTreeRegressor(max_depth = depth)\n",
    "            \n",
    "            # Fit the learner to the training data\n",
    "            regressor.fit(X_train[:s], y_train[:s])\n",
    "\n",
    "            # Find the performance on the training set\n",
    "            train_err[i] = performance_metric(y_train[:s], regressor.predict(X_train[:s]))\n",
    "            \n",
    "            # Find the performance on the testing set\n",
    "            test_err[i] = performance_metric(y_test, regressor.predict(X_test))\n",
    "\n",
    "        # Subplot the learning curve graph\n",
    "        ax = fig.add_subplot(2, 2, k+1)\n",
    "        ax.plot(sizes, test_err, lw = 2, label = 'Testing Error')\n",
    "        ax.plot(sizes, train_err, lw = 2, label = 'Training Error')\n",
    "        ax.legend()\n",
    "        ax.set_title('max_depth = %s'%(depth))\n",
    "        ax.set_xlabel('Number of Data Points in Training Set')\n",
    "        ax.set_ylabel('Total Error')\n",
    "        ax.set_xlim([0, len(X_train)])\n",
    "    \n",
    "    # Visual aesthetics\n",
    "    fig.suptitle('Decision Tree Regressor Learning Performances', fontsize=18, y=1.03)\n",
    "    fig.tight_layout()\n",
    "    fig.show()"
   ]
  },
  {
   "cell_type": "code",
   "execution_count": 22,
   "metadata": {
    "collapsed": true
   },
   "outputs": [],
   "source": [
    "def model_complexity(X_train, y_train, X_test, y_test):\n",
    "    \"\"\" Calculates the performance of the model as model complexity increases.\n",
    "        The learning and testing errors rates are then plotted. \"\"\"\n",
    "    \n",
    "    print \"Creating a model complexity graph. . . \"\n",
    "\n",
    "    # We will vary the max_depth of a decision tree model from 1 to 14\n",
    "    max_depth = np.arange(1, 14)\n",
    "    train_err = np.zeros(len(max_depth))\n",
    "    test_err = np.zeros(len(max_depth))\n",
    "\n",
    "    for i, d in enumerate(max_depth):\n",
    "        # Setup a Decision Tree Regressor so that it learns a tree with depth d\n",
    "        regressor = DecisionTreeRegressor(max_depth = d)\n",
    "\n",
    "        # Fit the learner to the training data\n",
    "        regressor.fit(X_train, y_train)\n",
    "\n",
    "        # Find the performance on the training set\n",
    "        train_err[i] = performance_metric(y_train, regressor.predict(X_train))\n",
    "\n",
    "        # Find the performance on the testing set\n",
    "        test_err[i] = performance_metric(y_test, regressor.predict(X_test))\n",
    "\n",
    "    # Plot the model complexity graph\n",
    "    pl.figure(figsize=(7, 5))\n",
    "    pl.title('Decision Tree Regressor Complexity Performance')\n",
    "    pl.plot(max_depth, test_err, lw=2, label = 'Testing Error')\n",
    "    pl.plot(max_depth, train_err, lw=2, label = 'Training Error')\n",
    "    pl.legend()\n",
    "    pl.xlabel('Maximum Depth')\n",
    "    pl.ylabel('Total Error')\n",
    "    pl.show()"
   ]
  },
  {
   "cell_type": "markdown",
   "metadata": {},
   "source": [
    "# Analyzing Model Performance\n",
    "In this third section of the project, you'll take a look at several models' learning and testing error rates on various subsets of training data. Additionally, you'll investigate one particular algorithm with an increasing `max_depth` parameter on the full training set to observe how model complexity affects learning and testing errors. Graphing your model's performance based on varying criteria can be beneficial in the analysis process, such as visualizing behavior that may not have been apparent from the results alone."
   ]
  },
  {
   "cell_type": "code",
   "execution_count": 23,
   "metadata": {
    "collapsed": false
   },
   "outputs": [
    {
     "name": "stdout",
     "output_type": "stream",
     "text": [
      "Creating learning curve graphs for max_depths of 1, 3, 6, and 10. . .\n",
      "0.0\n",
      "7.42302631579\n",
      "2.47857142857\n",
      "7.07904135338\n",
      "2.56666666667\n",
      "6.1774122807\n",
      "3.51265700483\n",
      "5.66981725146\n",
      "3.5850931677\n",
      "5.5826863354\n",
      "3.73925908667\n",
      "5.37826395191\n",
      "3.84526515152\n",
      "5.25211074561\n",
      "5.14231166151\n",
      "5.69186288089\n",
      "5.02869073938\n",
      "5.60567950674\n",
      "5.36218596219\n",
      "5.5960919928\n",
      "5.52578751341\n",
      "5.591898092\n",
      "5.51046875\n",
      "5.57236842105\n",
      "5.30181804523\n",
      "5.56575077399\n",
      "5.16381910041\n",
      "5.55508166969\n",
      "5.00668714681\n",
      "5.6420052428\n",
      "4.81394557823\n",
      "5.62847520587\n",
      "5.04349529781\n",
      "5.5\n",
      "4.71682023487\n",
      "5.25897660819\n",
      "5.06674521046\n",
      "5.64147544359\n",
      "5.0354395189\n",
      "5.62814212319\n",
      "5.26483234792\n",
      "5.65346132881\n",
      "5.31966957836\n",
      "5.68102978033\n",
      "5.27841905636\n",
      "5.68239689332\n",
      "5.24863837542\n",
      "5.68946796339\n",
      "5.25071731052\n",
      "5.69499159082\n",
      "5.19510780839\n",
      "5.71152797977\n",
      "5.11082742317\n",
      "5.71914900097\n",
      "5.03939329708\n",
      "5.7002817922\n",
      "5.0739669918\n",
      "5.72067309222\n",
      "5.02657182153\n",
      "5.72910184783\n",
      "5.01479903827\n",
      "5.72283695652\n",
      "5.08965979673\n",
      "5.71620380001\n",
      "5.15143545249\n",
      "5.71713711313\n",
      "5.24723835399\n",
      "5.75405235264\n",
      "5.21625500563\n",
      "5.73473941853\n",
      "5.19184333453\n",
      "5.72744218501\n",
      "5.14968900665\n",
      "5.72054060547\n",
      "5.2397619081\n",
      "5.74027645774\n",
      "5.20853271028\n",
      "5.72532642207\n",
      "5.19692478971\n",
      "5.71878706743\n",
      "5.23099366835\n",
      "5.70305768223\n",
      "5.31583544871\n",
      "5.73260616711\n",
      "5.10200365346\n",
      "5.70280703845\n",
      "5.25244979247\n",
      "5.71833865974\n",
      "5.2398525693\n",
      "5.72138861707\n",
      "5.21821538462\n",
      "5.70425607287\n",
      "5.17295956102\n",
      "5.70250390829\n",
      "5.15879934277\n",
      "5.69113599693\n",
      "5.12450632246\n",
      "5.68446377085\n",
      "5.12433168956\n",
      "5.67959414598\n",
      "0.0\n",
      "7.42302631579\n",
      "0.35\n",
      "6.63815789474\n",
      "0.615555555556\n",
      "5.50361842105\n",
      "0.807888198758\n",
      "4.36319078947\n",
      "1.11363636364\n",
      "3.9817284689\n",
      "1.45891891892\n",
      "4.32923245614\n",
      "1.58265151515\n",
      "4.5854495614\n",
      "2.06541394336\n",
      "4.17932200292\n",
      "2.04182502996\n",
      "4.16781133705\n",
      "2.25881433381\n",
      "4.04845969089\n",
      "2.84377270421\n",
      "4.62254117934\n",
      "2.80838047034\n",
      "4.26743458155\n",
      "2.79788288565\n",
      "4.42954111549\n",
      "2.74626539052\n",
      "4.22398044584\n",
      "2.85687141118\n",
      "4.00866130407\n",
      "2.75033008839\n",
      "3.99905006005\n",
      "2.79229002106\n",
      "3.7166199658\n",
      "2.7847062612\n",
      "4.02672144323\n",
      "2.29312022901\n",
      "3.30662966009\n",
      "2.42034255599\n",
      "3.34303628389\n",
      "2.71139249341\n",
      "3.74950398978\n",
      "3.20864661654\n",
      "4.01919611529\n",
      "3.12694336893\n",
      "4.18437698569\n",
      "3.19852738967\n",
      "3.8670363725\n",
      "3.14124269103\n",
      "3.85353320438\n",
      "3.09752539537\n",
      "3.88550626853\n",
      "3.07605296069\n",
      "3.89406684903\n",
      "3.06768619136\n",
      "3.90990743905\n",
      "2.85817244707\n",
      "3.89971400718\n",
      "2.90136348979\n",
      "3.90378945613\n",
      "2.97640710014\n",
      "4.08633380204\n",
      "2.5160748304\n",
      "3.2691786036\n",
      "2.96859533642\n",
      "3.78610356472\n",
      "2.56833707297\n",
      "3.26511247383\n",
      "2.61412250532\n",
      "3.29991712746\n",
      "2.64008202055\n",
      "3.30948081539\n",
      "2.67361324053\n",
      "3.30903978773\n",
      "2.6711621043\n",
      "3.30366091492\n",
      "2.65088711141\n",
      "3.29544228668\n",
      "2.63133884652\n",
      "3.29957088716\n",
      "3.0083958294\n",
      "3.74400247641\n",
      "2.99731537392\n",
      "3.75064288891\n",
      "2.90580332325\n",
      "3.85240702045\n",
      "3.04111341499\n",
      "3.85471043941\n",
      "3.06245292565\n",
      "3.88617030235\n",
      "2.66271247721\n",
      "3.22573463467\n",
      "2.66481803906\n",
      "3.22649667057\n",
      "2.65963968743\n",
      "3.23843645374\n",
      "2.65080293035\n",
      "3.21121722654\n",
      "2.56917451919\n",
      "3.19049220175\n",
      "0.0\n",
      "7.42302631579\n",
      "0.0\n",
      "6.84605263158\n",
      "0.0\n",
      "6.425\n",
      "0.0260869565217\n",
      "4.22039473684\n",
      "0.0566666666667\n",
      "4.08782894737\n",
      "0.122162162162\n",
      "5.06460526316\n",
      "0.194772727273\n",
      "3.883125\n",
      "0.292156862745\n",
      "4.28684210526\n",
      "0.296416464891\n",
      "3.7790037594\n",
      "0.426556473829\n",
      "3.38808213716\n",
      "0.567648401826\n",
      "3.56155153509\n",
      "0.621176767677\n",
      "3.52522860181\n",
      "0.658031429918\n",
      "3.64488050005\n",
      "0.715968102073\n",
      "3.60137246525\n",
      "0.719959539371\n",
      "3.0844559315\n",
      "0.775229357798\n",
      "3.39005847953\n",
      "0.861734587252\n",
      "3.43568281499\n",
      "1.20612809741\n",
      "3.00626230274\n",
      "0.787328992666\n",
      "2.62856133901\n",
      "0.828950625619\n",
      "2.9113012831\n",
      "0.866362382445\n",
      "3.13061064593\n",
      "1.07978657837\n",
      "3.88073502399\n",
      "0.858366845328\n",
      "3.55132788869\n",
      "0.954653572389\n",
      "3.62822605266\n",
      "1.01811678017\n",
      "3.1992296032\n",
      "1.0091650073\n",
      "3.45763702204\n",
      "0.983037483564\n",
      "3.31701227713\n",
      "1.04086895349\n",
      "3.13205118527\n",
      "1.24421126156\n",
      "2.89544580847\n",
      "1.24853843046\n",
      "2.91048287441\n",
      "1.20302784261\n",
      "3.09833150585\n",
      "1.11779039573\n",
      "2.99084914066\n",
      "1.28368289995\n",
      "3.19621747843\n",
      "1.14435086633\n",
      "2.7944076354\n",
      "1.14159470063\n",
      "2.71548627649\n",
      "1.1428112299\n",
      "2.82989558678\n",
      "1.23501880472\n",
      "2.78028954963\n",
      "1.26070365216\n",
      "2.88331011894\n",
      "1.28300305577\n",
      "2.8810271635\n",
      "1.20667413174\n",
      "2.90087154751\n",
      "1.31079750741\n",
      "3.06913695017\n",
      "1.31119340814\n",
      "2.7687488959\n",
      "1.39616067075\n",
      "2.92805427403\n",
      "1.36823994606\n",
      "3.13615411885\n",
      "1.42475145841\n",
      "3.09902177693\n",
      "1.3120979921\n",
      "3.05019678829\n",
      "1.3296933218\n",
      "3.09836040385\n",
      "1.34929143841\n",
      "3.18897053017\n",
      "1.31863934316\n",
      "3.03151301209\n",
      "1.39628656861\n",
      "3.16153452221\n",
      "0.0\n",
      "7.42302631579\n",
      "0.0\n",
      "7.13092105263\n",
      "0.0\n",
      "5.62565789474\n",
      "0.0\n",
      "4.20986842105\n",
      "0.0\n",
      "4.03092105263\n",
      "0.0\n",
      "4.49276315789\n",
      "0.0\n",
      "3.88026315789\n",
      "0.0\n",
      "3.86447368421\n",
      "0.0\n",
      "3.66381578947\n",
      "0.0\n",
      "4.05\n",
      "0.0187214611872\n",
      "3.79506578947\n",
      "0.0183333333333\n",
      "3.84780701754\n",
      "0.0731800766284\n",
      "3.7663377193\n",
      "0.0238596491228\n",
      "3.71776315789\n",
      "0.0104575163399\n",
      "3.30263157895\n",
      "0.0426911314985\n",
      "3.71176535088\n",
      "0.155459770115\n",
      "3.35904605263\n",
      "0.243947606143\n",
      "3.04402412281\n",
      "0.042639040349\n",
      "2.73883145363\n",
      "0.0702415458937\n",
      "3.28256578947\n",
      "0.055816091954\n",
      "3.23135964912\n",
      "0.146070625281\n",
      "4.03000787224\n",
      "0.135294998503\n",
      "3.7539943609\n",
      "0.118520102652\n",
      "3.59001409774\n",
      "0.158962780515\n",
      "3.16846804511\n",
      "0.190955981113\n",
      "3.36785054742\n",
      "0.0939539007092\n",
      "3.47387061404\n",
      "0.083083090379\n",
      "3.43615131579\n",
      "0.073711001642\n",
      "3.14703947368\n",
      "0.0787777777778\n",
      "3.16471491228\n",
      "0.0964998902787\n",
      "3.2201754386\n",
      "0.0828125\n",
      "3.10253289474\n",
      "0.101666666667\n",
      "3.33202850877\n",
      "0.107140864714\n",
      "2.98322368421\n",
      "0.226438250097\n",
      "2.75468045113\n",
      "0.222417492552\n",
      "3.12263914096\n",
      "0.225078921079\n",
      "2.87839342675\n",
      "0.232039047188\n",
      "3.00303196438\n",
      "0.283527272727\n",
      "3.12562343358\n",
      "0.208389459241\n",
      "3.15099977508\n",
      "0.364439597312\n",
      "3.11370027998\n",
      "0.321158301158\n",
      "2.92213084795\n",
      "0.345661549708\n",
      "2.88802997076\n",
      "0.428588399647\n",
      "2.95866195818\n",
      "0.446550001361\n",
      "3.12166729199\n",
      "0.381905827506\n",
      "3.224934792\n",
      "0.366598819324\n",
      "3.06439212662\n",
      "0.34300989011\n",
      "3.10666664257\n",
      "0.361617596301\n",
      "2.90246079213\n",
      "0.426702191406\n",
      "3.06493520734\n"
     ]
    },
    {
     "data": {
      "image/png": "[encoded data removed]",
      "text/plain": [
       "<matplotlib.figure.Figure at 0x111bc4b90>"
      ]
     },
     "metadata": {},
     "output_type": "display_data"
    }
   ],
   "source": [
    "learning_curves(X_train, y_train, X_test, y_test)"
   ]
  },
  {
   "cell_type": "markdown",
   "metadata": {},
   "source": [
    "## Question 7\n",
    "*Choose one of the learning curve graphs that are created above. What is the max depth for the chosen model? As the size of the training set increases, what happens to the training error? What happens to the testing error?*"
   ]
  },
  {
   "cell_type": "markdown",
   "metadata": {},
   "source": [
    "**Answer: **\n",
    "Max depth=10\n",
    "\n",
    "As training set increases, training error increases and testing error decreases. Eventually all changes level off.\n",
    "\n"
   ]
  },
  {
   "cell_type": "markdown",
   "metadata": {},
   "source": [
    "## Question 8\n",
    "*Look at the learning curve graphs for the model with a max depth of 1 and a max depth of 10. When the model is using the full training set, does it suffer from high bias or high variance when the max depth is 1? What about when the max depth is 10?*"
   ]
  },
  {
   "cell_type": "markdown",
   "metadata": {},
   "source": [
    "**Answer: **\n",
    "When the model with max_depth 1 is using the full training set, the testing and training error have nearly converged. This suggests it is not suffering from high variance. Both errors are high so it must be suffering from high bias. This is logical for a model with few features.\n",
    "\n",
    "On the other hand when the model with max_depth 10 is using the full training set, the testing and training error haven't converged at. This suggests the model is overfit to the training data and its variance is very high. This is logical for a model with many features. \n",
    "\n",
    "\n"
   ]
  },
  {
   "cell_type": "code",
   "execution_count": 24,
   "metadata": {
    "collapsed": false
   },
   "outputs": [
    {
     "name": "stdout",
     "output_type": "stream",
     "text": [
      "Creating a model complexity graph. . . \n",
      "5.12433168956\n",
      "5.67959414598\n",
      "3.5750914686\n",
      "4.10641209434\n",
      "2.56917451919\n",
      "3.19049220175\n",
      "2.10747550321\n",
      "3.11333792864\n",
      "1.78456148972\n",
      "3.10291444521\n",
      "1.39628656861\n",
      "3.09271873274\n",
      "1.09097969734\n",
      "3.01477034957\n",
      "0.855673383837\n",
      "2.96074812154\n",
      "0.636093765487\n",
      "3.00182828233\n",
      "0.426702191406\n",
      "2.9584280303\n",
      "0.283916780527\n",
      "3.09843875275\n",
      "0.182457919547\n",
      "3.04796747303\n",
      "0.10327534939\n",
      "3.07637378809\n"
     ]
    },
    {
     "data": {
      "image/png": "[encoded data removed]",
      "text/plain": [
       "<matplotlib.figure.Figure at 0x1125412d0>"
      ]
     },
     "metadata": {},
     "output_type": "display_data"
    }
   ],
   "source": [
    "model_complexity(X_train, y_train, X_test, y_test)"
   ]
  },
  {
   "cell_type": "markdown",
   "metadata": {},
   "source": [
    "## Question 9\n",
    "*From the model complexity graph above, describe the training and testing errors as the max depth increases. Based on your interpretation of the graph, which max depth results in a model that best generalizes the dataset? Why?*"
   ]
  },
  {
   "cell_type": "markdown",
   "metadata": {},
   "source": [
    "**Answer: **\n",
    "As max_depth increases the training error approaches 0 at a decreasing rate. However the testing error seems to level off near 3 on the y axis.\n",
    "\n",
    "I would chose 4 as a max depth for an optimal model because it is the simplest model with the best testing error. A greater max depth lowers the training error but keeps the testing error the same. This suggests that model depth past 4 is overfitting to the training sample."
   ]
  },
  {
   "cell_type": "markdown",
   "metadata": {},
   "source": [
    "# Model Prediction\n",
    "In this final section of the project, you will make a prediction on the client's feature set using an optimized model from `fit_model`. When applying grid search along with cross-validation to optimize your model, it would typically be performed and validated on a training set and subsequently evaluated on a **dedicated test set**. In this project, the optimization below is performed on the *entire dataset* (as opposed to the training set you made above) due to the many outliers in the data. Using the entire dataset for training provides for a less volatile prediction at the expense of not testing your model's performance. \n",
    "\n",
    "*To answer the following questions, it is recommended that you run the code blocks several times and use the median or mean value of the results.*"
   ]
  },
  {
   "cell_type": "markdown",
   "metadata": {},
   "source": [
    "## Question 10\n",
    "*Using grid search on the entire dataset, what is the optimal `max_depth` parameter for your model? How does this result compare to your intial intuition?*  \n",
    "**Hint: ** Run the code block below to see the max depth produced by your optimized model."
   ]
  },
  {
   "cell_type": "code",
   "execution_count": 25,
   "metadata": {
    "collapsed": false
   },
   "outputs": [
    {
     "name": "stdout",
     "output_type": "stream",
     "text": [
      "Final model has an optimal max_depth parameter of 5\n"
     ]
    }
   ],
   "source": [
    "print \"Final model has an optimal max_depth parameter of\", reg.get_params()['max_depth']"
   ]
  },
  {
   "cell_type": "markdown",
   "metadata": {},
   "source": [
    "**Answer: ** \n",
    "The average optimal max depth is around 4.5 or 5 which was around my prediction. "
   ]
  },
  {
   "cell_type": "markdown",
   "metadata": {},
   "source": [
    "## Question 11\n",
    "*With your parameter-tuned model, what is the best selling price for your client's home? How does this selling price compare to the basic statistics you calculated on the dataset?*  \n",
    "\n",
    "**Hint: ** Run the code block below to have your parameter-tuned model make a prediction on the client's home."
   ]
  },
  {
   "cell_type": "code",
   "execution_count": 26,
   "metadata": {
    "collapsed": false
   },
   "outputs": [
    {
     "name": "stdout",
     "output_type": "stream",
     "text": [
      "Predicted value of client's home: 20.968\n"
     ]
    }
   ],
   "source": [
    "sale_price = reg.predict(CLIENT_FEATURES)\n",
    "print \"Predicted value of client's home: {0:.3f}\".format(sale_price[0])"
   ]
  },
  {
   "cell_type": "markdown",
   "metadata": {},
   "source": [
    "**Answer: **\n",
    "Predicted selling price of my client's home according to current fit would be 21.63 which is between the median and mean of the data."
   ]
  },
  {
   "cell_type": "markdown",
   "metadata": {},
   "source": [
    "## Question 12 (Final Question):\n",
    "*In a few sentences, discuss whether you would use this model or not to predict the selling price of future clients' homes in the Greater Boston area.*"
   ]
  },
  {
   "cell_type": "markdown",
   "metadata": {},
   "source": [
    "**Answer: **\n",
    "This seems like a reasonable model for prediction. The max depth seems like a very good choice. It doesn't suffer from too much variance or bias and the testing error is very low. I would be wary of homes with outlying features and I would like to be more familiar with the decision tree regressor before making a recommendation.  "
   ]
  },
  {
   "cell_type": "code",
   "execution_count": null,
   "metadata": {
    "collapsed": true
   },
   "outputs": [],
   "source": []
  },
  {
   "cell_type": "code",
   "execution_count": null,
   "metadata": {
    "collapsed": true
   },
   "outputs": [],
   "source": []
  }
 ],
 "metadata": {
  "kernelspec": {
   "display_name": "Python 2",
   "language": "python",
   "name": "python2"
  },
  "language_info": {
   "codemirror_mode": {
    "name": "ipython",
    "version": 2
   },
   "file_extension": ".py",
   "mimetype": "text/x-python",
   "name": "python",
   "nbconvert_exporter": "python",
   "pygments_lexer": "ipython2",
   "version": "2.7.11"
  }
 },
 "nbformat": 4,
 "nbformat_minor": 0
}
