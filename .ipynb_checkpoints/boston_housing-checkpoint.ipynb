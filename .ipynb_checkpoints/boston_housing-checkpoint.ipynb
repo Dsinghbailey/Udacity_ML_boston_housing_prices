{
 "cells": [
  {
   "cell_type": "markdown",
   "metadata": {},
   "source": [
    "# Machine Learning Engineer Nanodegree\n",
    "## Model Evaluation & Validation\n",
    "## Project 1: Predicting Boston Housing Prices\n",
    "\n",
    "Welcome to the first project of the Machine Learning Engineer Nanodegree! In this notebook, some template code has already been written. You will need to implement additional functionality to successfully answer all of the questions for this project. Unless it is requested, do not modify any of the code that has already been included. In this template code, there are four sections which you must complete to successfully produce a prediction with your model. Each section where you will write code is preceded by a **STEP X** header with comments describing what must be done. Please read the instructions carefully!\n",
    "\n",
    "In addition to implementing code, there will be questions that you must answer that relate to the project and your implementation. Each section where you will answer a question is preceded by a **QUESTION X** header. Be sure that you have carefully read each question and provide thorough answers in the text boxes that begin with \"**Answer:**\". Your project submission will be evaluated based on your answers to each of the questions.  \n",
    "\n",
    "A description of the dataset can be found [here](https://archive.ics.uci.edu/ml/datasets/Housing), which is provided by the **UCI Machine Learning Repository**."
   ]
  },
  {
   "cell_type": "markdown",
   "metadata": {},
   "source": [
    "# Getting Started\n",
    "To familiarize yourself with an iPython Notebook, **try double clicking on this cell**. You will notice that the text changes so that all the formatting is removed. This allows you to make edits to the block of text you see here. This block of text (and mostly anything that's not code) is written using [Markdown](http://daringfireball.net/projects/markdown/syntax), which is a way to format text using headers, links, italics, and many other options! Whether you're editing a Markdown text block or a code block (like the one below), you can use the keyboard shortcut **Shift + Enter** or **Shift + Return** to execute the code or text block. In this case, it will show the formatted text.\n",
    "\n",
    "Let's start by setting up some code we will need to get the rest of the project up and running. Use the keyboard shortcut mentioned above on the following code block to execute it. Alternatively, depending on your iPython Notebook program, you can press the **Play** button in the hotbar. You'll know the code block executes successfully if the message *\"Boston Housing dataset loaded successfully!\"* is printed."
   ]
  },
  {
   "cell_type": "code",
   "execution_count": 1,
   "metadata": {
    "collapsed": false
   },
   "outputs": [
    {
     "name": "stdout",
     "output_type": "stream",
     "text": [
      "Boston Housing dataset loaded successfully!\n"
     ]
    }
   ],
   "source": [
    "# Importing a few necessary libraries\n",
    "import numpy as np\n",
    "import matplotlib.pyplot as pl\n",
    "from sklearn import datasets\n",
    "from sklearn.tree import DecisionTreeRegressor\n",
    "\n",
    "# Make matplotlib show our plots inline (nicely formatted in the notebook)\n",
    "%matplotlib inline\n",
    "\n",
    "# Create our client's feature set for which we will be predicting a selling price\n",
    "CLIENT_FEATURES = [[11.95, 0.00, 18.100, 0, 0.6590, 5.6090, 90.00, 1.385, 24, 680.0, 20.20, 332.09, 12.13]]\n",
    "\n",
    "# Load the Boston Housing dataset into the city_data variable\n",
    "city_data = datasets.load_boston()\n",
    "\n",
    "# Initialize the housing prices and housing features\n",
    "housing_prices = city_data.target\n",
    "housing_features = city_data.data\n",
    "\n",
    "print \"Boston Housing dataset loaded successfully!\""
   ]
  },
  {
   "cell_type": "markdown",
   "metadata": {},
   "source": [
    "# Statistical Analysis and Data Exploration\n",
    "In this first section of the project, you will quickly investigate a few basic statistics about the dataset you are working with. In addition, you'll look at the client's feature set in `CLIENT_FEATURES` and see how this particular sample relates to the features of the dataset. Familiarizing yourself with the data through an explorative process is a fundamental practice to help you better understand your results."
   ]
  },
  {
   "cell_type": "markdown",
   "metadata": {},
   "source": [
    "## Step 1\n",
    "In the code block below, use the imported `numpy` library to calculate the requested statistics. You will need to replace each `None` you find with the appropriate `numpy` coding for the proper statistic to be printed. Be sure to execute the code block each time to test if your implementation is working successfully. The print statements will show the statistics you calculate!"
   ]
  },
  {
   "cell_type": "code",
   "execution_count": 11,
   "metadata": {
    "collapsed": false
   },
   "outputs": [
    {
     "name": "stdout",
     "output_type": "stream",
     "text": [
      "Boston Housing dataset statistics (in $1000's):\n",
      "\n",
      "Total number of houses: 506\n",
      "Total number of features: 6578\n",
      "Minimum house price: 5.0\n",
      "Maximum house price: 50.0\n",
      "Mean house price: 22.533\n",
      "Median house price: 21.2\n",
      "Standard deviation of house price: 9.188\n"
     ]
    }
   ],
   "source": [
    "# Number of houses in the dataset\n",
    "total_houses = housing_prices.size\n",
    "\n",
    "# Number of features in the dataset\n",
    "total_features = housing_features.size\n",
    "\n",
    "# Minimum housing value in the dataset\n",
    "minimum_price = np.min(housing_prices)\n",
    "\n",
    "# Maximum housing value in the dataset\n",
    "maximum_price = np.max(housing_prices)\n",
    "\n",
    "# Mean house value of the dataset\n",
    "mean_price = np.mean(housing_prices)\n",
    "\n",
    "# Median house value of the dataset\n",
    "median_price = np.median(housing_prices)\n",
    "\n",
    "# Standard deviation of housing values of the dataset\n",
    "std_dev = np.std(housing_prices)\n",
    "\n",
    "# Show the calculated statistics\n",
    "print \"Boston Housing dataset statistics (in $1000's):\\n\"\n",
    "print \"Total number of houses:\", total_houses\n",
    "print \"Total number of features:\", total_features\n",
    "print \"Minimum house price:\", minimum_price\n",
    "print \"Maximum house price:\", maximum_price\n",
    "print \"Mean house price: {0:.3f}\".format(mean_price)\n",
    "print \"Median house price:\", median_price\n",
    "print \"Standard deviation of house price: {0:.3f}\".format(std_dev)"
   ]
  },
  {
   "cell_type": "markdown",
   "metadata": {},
   "source": [
    "## Question 1\n",
    "As a reminder, you can view a description of the Boston Housing dataset [here](https://archive.ics.uci.edu/ml/datasets/Housing), where you can find the different features under **Attribute Information**. The `MEDV` attribute relates to the values stored in our `housing_prices` variable, so we do not consider that a feature of the data.\n",
    "\n",
    "*Of the features available for each data point, choose three that you feel are significant and give a brief description for each of what they measure.*\n",
    "\n",
    "Remember, you can **double click the text box below** to add your answer!"
   ]
  },
  {
   "cell_type": "markdown",
   "metadata": {},
   "source": [
    "**Answer: **\n",
    "CRIM: A measure of neighborhood safety. Seems like a good indicator.\n",
    "\n",
    "CHAS: Is there riverfront property on the tract? Seems like that would raise prices.\n",
    "\n",
    "LSTAT: % of lower Status people in the pop. I would expect that as LSTAT goes up, price decreases."
   ]
  },
  {
   "cell_type": "markdown",
   "metadata": {},
   "source": [
    "## Question 2\n",
    "*Using your client's feature set `CLIENT_FEATURES`, which values correspond with the features you've chosen above?*  \n",
    "**Hint: ** Run the code block below to see the client's data."
   ]
  },
  {
   "cell_type": "code",
   "execution_count": 13,
   "metadata": {
    "collapsed": false
   },
   "outputs": [
    {
     "name": "stdout",
     "output_type": "stream",
     "text": [
      "[[11.95, 0.0, 18.1, 0, 0.659, 5.609, 90.0, 1.385, 24, 680.0, 20.2, 332.09, 12.13]]\n"
     ]
    }
   ],
   "source": [
    "print CLIENT_FEATURES"
   ]
  },
  {
   "cell_type": "markdown",
   "metadata": {},
   "source": [
    "**Answer: **\n",
    "CRIM: 11.95\n",
    "CHAS: 0\n",
    "LSTAT:12.13"
   ]
  },
  {
   "cell_type": "markdown",
   "metadata": {},
   "source": [
    "# Evaluating Model Performance\n",
    "In this second section of the project, you will begin to develop the tools necessary for a model to make a prediction. Being able to accurately evaluate each model's performance through the use of these tools helps to greatly reinforce the confidence in your predictions."
   ]
  },
  {
   "cell_type": "markdown",
   "metadata": {},
   "source": [
    "## Step 2\n",
    "In the code block below, you will need to implement code so that the `shuffle_split_data` function does the following:\n",
    "- Randomly shuffle the input data `X` and target labels (housing values) `y`.\n",
    "- Split the data into training and testing subsets, holding 30% of the data for testing.\n",
    "\n",
    "If you use any functions not already acessible from the imported libraries above, remember to include your import statement below as well!   \n",
    "Ensure that you have executed the code block once you are done. You'll know the `shuffle_split_data` function is working if the statement *\"Successfully shuffled and split the data!\"* is printed."
   ]
  },
  {
   "cell_type": "code",
   "execution_count": 117,
   "metadata": {
    "collapsed": false
   },
   "outputs": [
    {
     "name": "stdout",
     "output_type": "stream",
     "text": [
      "Successfully shuffled and split the data!\n"
     ]
    }
   ],
   "source": [
    "# Put any import statements you need for this code block here\n",
    "from sklearn.cross_validation import train_test_split\n",
    "\n",
    "def shuffle_split_data(X, y):\n",
    "    \"\"\" Shuffles and splits data into 70% training and 30% testing subsets,\n",
    "        then returns the training and testing subsets. \"\"\"\n",
    "\n",
    "    # Shuffle and split the data\n",
    "    X_train, X_test, y_train, y_test = train_test_split(X, y, train_size=0.7, random_state=None)\n",
    "\n",
    "\n",
    "    # Return the training and testing data subsets\n",
    "    return X_train, y_train, X_test, y_test\n",
    "\n",
    "\n",
    "# Test shuffle_split_data\n",
    "try:\n",
    "    X_train, y_train, X_test, y_test = shuffle_split_data(housing_features, housing_prices)\n",
    "    print \"Successfully shuffled and split the data!\"\n",
    "except:\n",
    "    print \"Something went wrong with shuffling and splitting the data.\""
   ]
  },
  {
   "cell_type": "markdown",
   "metadata": {},
   "source": [
    "## Question 3\n",
    "*Why do we split the data into training and testing subsets for our model?*"
   ]
  },
  {
   "cell_type": "markdown",
   "metadata": {},
   "source": [
    "**Answer: **\n",
    "\n",
    "Without a testing subset we could not accurately predict the performance of the model, and of course we need a training subset to fit the model."
   ]
  },
  {
   "cell_type": "markdown",
   "metadata": {},
   "source": [
    "## Step 3\n",
    "In the code block below, you will need to implement code so that the `performance_metric` function does the following:\n",
    "- Perform a total error calculation between the true values of the `y` labels `y_true` and the predicted values of the `y` labels `y_predict`.\n",
    "\n",
    "You will need to first choose an appropriate performance metric for this problem. See [the sklearn metrics documentation](http://scikit-learn.org/stable/modules/classes.html#sklearn-metrics-metrics) to view a list of available metric functions. **Hint: ** Look at the question below to see a list of the metrics that were covered in the supporting course for this project.\n",
    "\n",
    "Once you have determined which metric you will use, remember to include the necessary import statement as well!  \n",
    "Ensure that you have executed the code block once you are done. You'll know the `performance_metric` function is working if the statement *\"Successfully performed a metric calculation!\"* is printed."
   ]
  },
  {
   "cell_type": "code",
   "execution_count": 118,
   "metadata": {
    "collapsed": false
   },
   "outputs": [
    {
     "name": "stdout",
     "output_type": "stream",
     "text": [
      "0.0\n",
      "Successfully performed a metric calculation!\n"
     ]
    }
   ],
   "source": [
    "# Put any import statements you need for this code block here\n",
    "from sklearn.metrics import mean_absolute_error\n",
    "\n",
    "def performance_metric(y_true, y_predict):\n",
    "    \"\"\" Calculates and returns the total error between true and predicted values\n",
    "        based on a performance metric chosen by the student. \"\"\"\n",
    "    error = mean_absolute_error(y_true, y_predict)\n",
    "    print(error)\n",
    "    return error\n",
    "\n",
    "\n",
    "# Test performance_metric\n",
    "try:\n",
    "    total_error = performance_metric(y_train, y_train)\n",
    "    print \"Successfully performed a metric calculation!\"\n",
    "except:\n",
    "    print \"Something went wrong with performing a metric calculation.\""
   ]
  },
  {
   "cell_type": "markdown",
   "metadata": {},
   "source": [
    "## Question 4\n",
    "*Which performance metric below did you find was most appropriate for predicting housing prices and analyzing the total error. Why?*\n",
    "- *Accuracy*\n",
    "- *Precision*\n",
    "- *Recall*\n",
    "- *F1 Score*\n",
    "- *Mean Squared Error (MSE)*\n",
    "- *Mean Absolute Error (MAE)*"
   ]
  },
  {
   "cell_type": "markdown",
   "metadata": {},
   "source": [
    "**Answer: ** \n",
    "\n",
    "The first 4 are bad choices because they work better with discrete predictions. \n",
    "I would say that being off by 8000 is exactly twice as bad as being off by 4000 so MAE is the right choice."
   ]
  },
  {
   "cell_type": "markdown",
   "metadata": {},
   "source": [
    "## Step 4 (Final Step)\n",
    "In the code block below, you will need to implement code so that the `fit_model` function does the following:\n",
    "- Create a scoring function using the same performance metric as in **Step 2**. See the [sklearn `make_scorer` documentation](http://scikit-learn.org/stable/modules/generated/sklearn.metrics.make_scorer.html).\n",
    "- Build a GridSearchCV object using `regressor`, `parameters`, and `scoring_function`. See the [sklearn documentation on GridSearchCV](http://scikit-learn.org/stable/modules/generated/sklearn.grid_search.GridSearchCV.html).\n",
    "\n",
    "When building the scoring function and GridSearchCV object, *be sure that you read the parameters documentation thoroughly.* It is not always the case that a default parameter for a function is the appropriate setting for the problem you are working on.\n",
    "\n",
    "Since you are using `sklearn` functions, remember to include the necessary import statements below as well!  \n",
    "Ensure that you have executed the code block once you are done. You'll know the `fit_model` function is working if the statement *\"Successfully fit a model to the data!\"* is printed."
   ]
  },
  {
   "cell_type": "code",
   "execution_count": 119,
   "metadata": {
    "collapsed": false
   },
   "outputs": [
    {
     "name": "stdout",
     "output_type": "stream",
     "text": [
      "Successfully fit a model!\n"
     ]
    }
   ],
   "source": [
    "# Put any import statements you need for this code block\n",
    "from sklearn import grid_search as gs\n",
    "from sklearn.metrics import make_scorer\n",
    "def fit_model(X, y):\n",
    "    \"\"\" Tunes a decision tree regressor model using GridSearchCV on the input data X \n",
    "        and target labels y and returns this optimal model. \"\"\"\n",
    "\n",
    "    # Create a decision tree regressor object\n",
    "    regressor = DecisionTreeRegressor()\n",
    "\n",
    "    # Set up the parameters we wish to tune\n",
    "    parameters = {'max_depth':(1,2,3,4,5,6,7,8,9,10)}\n",
    "\n",
    "    # Make an appropriate scoring function\n",
    "    scoring_function = make_scorer(mean_absolute_error, greater_is_better=False)\n",
    "\n",
    "    # Make the GridSearchCV object\n",
    "    reg = gs.GridSearchCV(regressor, parameters, scoring_function)\n",
    "\n",
    "    # Fit the learner to the data to obtain the optimal model with tuned parameters\n",
    "    reg.fit(X, y)\n",
    "\n",
    "    # Return the optimal model\n",
    "    return reg.best_estimator_\n",
    "\n",
    "\n",
    "# Test fit_model on entire dataset\n",
    "try:\n",
    "    reg = fit_model(housing_features, housing_prices)\n",
    "    print \"Successfully fit a model!\"\n",
    "except:\n",
    "    print \"Something went wrong with fitting a model.\""
   ]
  },
  {
   "cell_type": "markdown",
   "metadata": {},
   "source": [
    "## Question 5\n",
    "*What is the grid search algorithm and when is it applicable?*"
   ]
  },
  {
   "cell_type": "markdown",
   "metadata": {},
   "source": [
    "**Answer: ** GSA is a brute force hyperparameter optimizer. It is applicable when: \n",
    "A: we need some hyperparameter optimization to build a model (ex. don't want to test parameter importance manually)\n",
    "B: the data is not overwhemingly large or you have a lot of computing power as GSA is often emarassingly parallel. "
   ]
  },
  {
   "cell_type": "markdown",
   "metadata": {},
   "source": [
    "## Question 6\n",
    "*What is cross-validation, and how is it performed on a model? Why would cross-validation be helpful when using grid search?*"
   ]
  },
  {
   "cell_type": "markdown",
   "metadata": {},
   "source": [
    "**Answer: ** cross-validation is the action of splitting a set into a training and a testing subset in multiple rounds, then averaging the model validation results across rounds in order to better generalize a model for an indepedent data set. Cross-validation is more helpful for grid search than just one validation round because cross-validation cuts down on both the amount of data needed and the variance created by fitting the model to just one data set. "
   ]
  },
  {
   "cell_type": "markdown",
   "metadata": {},
   "source": [
    "# Checkpoint!\n",
    "You have now successfully completed your last code implementation section. Pat yourself on the back! All of your functions written above will be executed in the remaining sections below, and questions will be asked about various results for you to analyze. To prepare the **Analysis** and **Prediction** sections, you will need to intialize the two functions below. Remember, there's no need to implement any more code, so sit back and execute the code blocks! Some code comments are provided if you find yourself interested in the functionality."
   ]
  },
  {
   "cell_type": "code",
   "execution_count": 120,
   "metadata": {
    "collapsed": true
   },
   "outputs": [],
   "source": [
    "def learning_curves(X_train, y_train, X_test, y_test):\n",
    "    \"\"\" Calculates the performance of several models with varying sizes of training data.\n",
    "        The learning and testing error rates for each model are then plotted. \"\"\"\n",
    "    \n",
    "    print \"Creating learning curve graphs for max_depths of 1, 3, 6, and 10. . .\"\n",
    "    \n",
    "    # Create the figure window\n",
    "    fig = pl.figure(figsize=(10,8))\n",
    "\n",
    "    # We will vary the training set size so that we have 50 different sizes\n",
    "    sizes = np.rint(np.linspace(1, len(X_train), 50)).astype(int)\n",
    "    train_err = np.zeros(len(sizes))\n",
    "    test_err = np.zeros(len(sizes))\n",
    "\n",
    "    # Create four different models based on max_depth\n",
    "    for k, depth in enumerate([1,3,6,10]):\n",
    "        \n",
    "        for i, s in enumerate(sizes):\n",
    "            \n",
    "            # Setup a decision tree regressor so that it learns a tree with max_depth = depth\n",
    "            regressor = DecisionTreeRegressor(max_depth = depth)\n",
    "            \n",
    "            # Fit the learner to the training data\n",
    "            regressor.fit(X_train[:s], y_train[:s])\n",
    "\n",
    "            # Find the performance on the training set\n",
    "            train_err[i] = performance_metric(y_train[:s], regressor.predict(X_train[:s]))\n",
    "            \n",
    "            # Find the performance on the testing set\n",
    "            test_err[i] = performance_metric(y_test, regressor.predict(X_test))\n",
    "\n",
    "        # Subplot the learning curve graph\n",
    "        ax = fig.add_subplot(2, 2, k+1)\n",
    "        ax.plot(sizes, test_err, lw = 2, label = 'Testing Error')\n",
    "        ax.plot(sizes, train_err, lw = 2, label = 'Training Error')\n",
    "        ax.legend()\n",
    "        ax.set_title('max_depth = %s'%(depth))\n",
    "        ax.set_xlabel('Number of Data Points in Training Set')\n",
    "        ax.set_ylabel('Total Error')\n",
    "        ax.set_xlim([0, len(X_train)])\n",
    "    \n",
    "    # Visual aesthetics\n",
    "    fig.suptitle('Decision Tree Regressor Learning Performances', fontsize=18, y=1.03)\n",
    "    fig.tight_layout()\n",
    "    fig.show()"
   ]
  },
  {
   "cell_type": "code",
   "execution_count": 121,
   "metadata": {
    "collapsed": true
   },
   "outputs": [],
   "source": [
    "def model_complexity(X_train, y_train, X_test, y_test):\n",
    "    \"\"\" Calculates the performance of the model as model complexity increases.\n",
    "        The learning and testing errors rates are then plotted. \"\"\"\n",
    "    \n",
    "    print \"Creating a model complexity graph. . . \"\n",
    "\n",
    "    # We will vary the max_depth of a decision tree model from 1 to 14\n",
    "    max_depth = np.arange(1, 14)\n",
    "    train_err = np.zeros(len(max_depth))\n",
    "    test_err = np.zeros(len(max_depth))\n",
    "\n",
    "    for i, d in enumerate(max_depth):\n",
    "        # Setup a Decision Tree Regressor so that it learns a tree with depth d\n",
    "        regressor = DecisionTreeRegressor(max_depth = d)\n",
    "\n",
    "        # Fit the learner to the training data\n",
    "        regressor.fit(X_train, y_train)\n",
    "\n",
    "        # Find the performance on the training set\n",
    "        train_err[i] = performance_metric(y_train, regressor.predict(X_train))\n",
    "\n",
    "        # Find the performance on the testing set\n",
    "        test_err[i] = performance_metric(y_test, regressor.predict(X_test))\n",
    "\n",
    "    # Plot the model complexity graph\n",
    "    pl.figure(figsize=(7, 5))\n",
    "    pl.title('Decision Tree Regressor Complexity Performance')\n",
    "    pl.plot(max_depth, test_err, lw=2, label = 'Testing Error')\n",
    "    pl.plot(max_depth, train_err, lw=2, label = 'Training Error')\n",
    "    pl.legend()\n",
    "    pl.xlabel('Maximum Depth')\n",
    "    pl.ylabel('Total Error')\n",
    "    pl.show()"
   ]
  },
  {
   "cell_type": "markdown",
   "metadata": {},
   "source": [
    "# Analyzing Model Performance\n",
    "In this third section of the project, you'll take a look at several models' learning and testing error rates on various subsets of training data. Additionally, you'll investigate one particular algorithm with an increasing `max_depth` parameter on the full training set to observe how model complexity affects learning and testing errors. Graphing your model's performance based on varying criteria can be beneficial in the analysis process, such as visualizing behavior that may not have been apparent from the results alone."
   ]
  },
  {
   "cell_type": "code",
   "execution_count": 122,
   "metadata": {
    "collapsed": false
   },
   "outputs": [
    {
     "name": "stdout",
     "output_type": "stream",
     "text": [
      "Creating learning curve graphs for max_depths of 1, 3, 6, and 10. . .\n",
      "0.0\n",
      "9.15723684211\n",
      "2.55166666667\n",
      "6.1975877193\n",
      "5.59272727273\n",
      "5.16824162679\n",
      "5.89956521739\n",
      "5.02549342105\n",
      "5.18666666667\n",
      "5.0326754386\n",
      "4.89602148733\n",
      "5.01552999346\n",
      "5.29388987918\n",
      "5.13472508887\n",
      "5.44104747162\n",
      "5.2157829813\n",
      "5.39036574487\n",
      "5.28469034428\n",
      "5.38696571376\n",
      "5.30208277899\n",
      "5.2767742704\n",
      "5.3108604119\n",
      "5.25278159341\n",
      "5.28912485541\n",
      "5.22549923195\n",
      "5.23163958283\n",
      "5.31052733086\n",
      "5.23225682637\n",
      "5.42878934469\n",
      "5.21185238487\n",
      "5.44539244205\n",
      "5.18855362267\n",
      "5.60951120185\n",
      "5.07510670756\n",
      "5.45077235772\n",
      "5.07505756579\n",
      "5.47186349349\n",
      "5.04562693498\n",
      "5.33498261822\n",
      "5.02927941431\n",
      "5.33707491082\n",
      "5.02137023593\n",
      "5.44062252405\n",
      "5.03053692699\n",
      "5.50717148466\n",
      "5.02243854384\n",
      "5.46964627084\n",
      "5.01562133216\n",
      "5.40962361956\n",
      "5.00999312006\n",
      "5.277462993\n",
      "5.2349838912\n",
      "5.23650138951\n",
      "5.24120214385\n",
      "5.18373593025\n",
      "5.19386900079\n",
      "5.12293757628\n",
      "5.12091600994\n",
      "5.18796866016\n",
      "5.15508235244\n",
      "5.14541400327\n",
      "5.17230475382\n",
      "5.18053890786\n",
      "5.1592077773\n",
      "5.48955668786\n",
      "5.002256486\n",
      "5.20751321158\n",
      "5.16487956282\n",
      "5.12916534012\n",
      "5.16116131006\n",
      "5.05026551478\n",
      "5.17170077548\n",
      "5.09814752061\n",
      "5.19221442924\n",
      "5.13029913458\n",
      "5.33687251216\n",
      "5.09706687179\n",
      "5.33243549779\n",
      "5.04392232033\n",
      "5.33175912648\n",
      "5.08532262127\n",
      "5.39260939706\n",
      "5.05392814233\n",
      "5.30022082457\n",
      "5.01764750807\n",
      "5.26372223313\n",
      "4.97756430403\n",
      "5.26424874179\n",
      "5.00732349742\n",
      "5.24872724575\n",
      "4.98080688542\n",
      "5.27130336768\n",
      "4.95650354844\n",
      "5.29993781543\n",
      "4.92614548049\n",
      "5.18991458977\n",
      "5.04501538468\n",
      "5.34687715425\n",
      "5.07811571408\n",
      "5.30863374564\n",
      "0.0\n",
      "9.15723684211\n",
      "0.1375\n",
      "5.86875\n",
      "0.813333333333\n",
      "5.83048245614\n",
      "2.1847826087\n",
      "5.22730263158\n",
      "1.78704761905\n",
      "4.42415413534\n",
      "2.36973791974\n",
      "4.63025817384\n",
      "2.42426437199\n",
      "4.88085795783\n",
      "2.10922162805\n",
      "4.11546052632\n",
      "2.28008112415\n",
      "4.16394511921\n",
      "2.22700237671\n",
      "4.2530127709\n",
      "2.27930280212\n",
      "4.00745869429\n",
      "2.41720238095\n",
      "4.07884094427\n",
      "2.41529461651\n",
      "4.14765978536\n",
      "2.58686459739\n",
      "4.0864607432\n",
      "2.63279034691\n",
      "3.92979576345\n",
      "2.70966512209\n",
      "4.51671251186\n",
      "2.83467350601\n",
      "4.50008603239\n",
      "2.84525938232\n",
      "4.37431644126\n",
      "2.81780083783\n",
      "4.36424840622\n",
      "2.79381890493\n",
      "4.34170932686\n",
      "2.92562779362\n",
      "4.13290329442\n",
      "2.59885658915\n",
      "3.47980630355\n",
      "2.59131895957\n",
      "3.44590544481\n",
      "2.7020259212\n",
      "3.47092643165\n",
      "2.7146012028\n",
      "3.97336071156\n",
      "2.77379671869\n",
      "3.7422463193\n",
      "2.76367010244\n",
      "3.74249285305\n",
      "2.7593290845\n",
      "3.81042534876\n",
      "2.5921020523\n",
      "3.77166111666\n",
      "2.63511199231\n",
      "3.5926383803\n",
      "2.70057401817\n",
      "3.59069072963\n",
      "2.69565563887\n",
      "3.59657337161\n",
      "2.9565845759\n",
      "3.69099505316\n",
      "2.64902939917\n",
      "3.54727585459\n",
      "2.62971102742\n",
      "3.57720975438\n",
      "2.63419425295\n",
      "3.56531304222\n",
      "2.63702927812\n",
      "3.60936143428\n",
      "2.6978667452\n",
      "3.63083391608\n",
      "2.71761667204\n",
      "3.61483391857\n",
      "2.7043148341\n",
      "3.611215265\n",
      "2.87450980392\n",
      "3.54968201754\n",
      "2.76509950774\n",
      "3.61977416502\n",
      "2.76108586395\n",
      "3.62127441498\n",
      "2.75659203767\n",
      "3.61409100766\n",
      "2.75044354341\n",
      "3.62414133198\n",
      "2.77008269521\n",
      "3.62795060267\n",
      "2.77746776926\n",
      "3.64645238789\n",
      "2.76810493561\n",
      "3.57285254326\n",
      "2.90588328677\n",
      "3.85774695865\n",
      "2.91249987787\n",
      "3.82241218615\n",
      "0.0\n",
      "9.15723684211\n",
      "0.0\n",
      "6.02434210526\n",
      "0.0\n",
      "5.56578947368\n",
      "0.0\n",
      "4.82894736842\n",
      "0.0366666666667\n",
      "4.57828947368\n",
      "0.184684684685\n",
      "3.76776315789\n",
      "0.249242424242\n",
      "3.96666666667\n",
      "0.422875816993\n",
      "3.78541666667\n",
      "0.519491525424\n",
      "3.58075657895\n",
      "0.389898989899\n",
      "3.3163377193\n",
      "0.62095890411\n",
      "3.53133040936\n",
      "0.561205808081\n",
      "3.45052664806\n",
      "0.54763248246\n",
      "3.48049527227\n",
      "0.786502923977\n",
      "3.66340643275\n",
      "0.644861739568\n",
      "3.69019989879\n",
      "0.877973311093\n",
      "3.90890849282\n",
      "0.972921455939\n",
      "3.89884137427\n",
      "0.919321202736\n",
      "3.69907477026\n",
      "0.90385072095\n",
      "3.68973684211\n",
      "0.995225382296\n",
      "3.71886970716\n",
      "1.07048093414\n",
      "3.38264097744\n",
      "1.05471151838\n",
      "3.90078869048\n",
      "1.08634895525\n",
      "3.88895110494\n",
      "1.15669825849\n",
      "3.82736294407\n",
      "1.16115855463\n",
      "3.77048168242\n",
      "1.20225978374\n",
      "3.49723950137\n",
      "1.15501036198\n",
      "3.35688169287\n",
      "1.17678500946\n",
      "3.46915403273\n",
      "1.22952419618\n",
      "3.46867050931\n",
      "1.31451740199\n",
      "3.23491319812\n",
      "1.3862140391\n",
      "3.09375413538\n",
      "1.33938077314\n",
      "2.98448343592\n",
      "1.2581871412\n",
      "3.0443516859\n",
      "1.38458144106\n",
      "3.09483925818\n",
      "1.33247267899\n",
      "3.20554118987\n",
      "1.33138776536\n",
      "3.08044198989\n",
      "1.29365306071\n",
      "3.15370036535\n",
      "1.40481567725\n",
      "3.02199042013\n",
      "1.45123865346\n",
      "2.99720693735\n",
      "1.44203862073\n",
      "2.92552515591\n",
      "1.57696787441\n",
      "2.75459657153\n",
      "1.46673560674\n",
      "2.84876248532\n",
      "1.48723603881\n",
      "3.1771073738\n",
      "1.49225569282\n",
      "3.02982690416\n",
      "1.48770681221\n",
      "3.06899181863\n",
      "1.49588102268\n",
      "3.1268576112\n",
      "1.50879115147\n",
      "3.05732781714\n",
      "1.47035218832\n",
      "3.10651181989\n",
      "1.52286735381\n",
      "3.18408526795\n",
      "1.55941700982\n",
      "3.17213824867\n",
      "0.0\n",
      "9.15723684211\n",
      "0.0\n",
      "5.81644736842\n",
      "0.0\n",
      "5.05394736842\n",
      "0.0\n",
      "5.30065789474\n",
      "0.0\n",
      "4.6625\n",
      "0.0\n",
      "3.93026315789\n",
      "0.0\n",
      "3.39802631579\n",
      "0.0254901960784\n",
      "4.13421052632\n",
      "0.00790960451977\n",
      "3.68399122807\n",
      "0.0\n",
      "3.24013157895\n",
      "0.00913242009132\n",
      "3.77368421053\n",
      "0.035\n",
      "3.28519736842\n",
      "0.00459770114943\n",
      "3.51184210526\n",
      "0.0731929824561\n",
      "3.69470394737\n",
      "0.0156862745098\n",
      "3.68980263158\n",
      "0.0512887723897\n",
      "4.01442669173\n",
      "0.0762315270936\n",
      "3.92246240602\n",
      "0.0332171893148\n",
      "3.93280075188\n",
      "0.0567938931298\n",
      "3.82115131579\n",
      "0.0961697722567\n",
      "3.74555921053\n",
      "0.153103448276\n",
      "3.49736842105\n",
      "0.0921052631579\n",
      "3.86844846491\n",
      "0.12830787661\n",
      "3.92523261278\n",
      "0.127944111776\n",
      "4.02182017544\n",
      "0.137175697865\n",
      "3.61698621554\n",
      "0.181767955801\n",
      "3.52247807018\n",
      "0.200891590679\n",
      "3.60328320802\n",
      "0.191820942663\n",
      "3.53151746554\n",
      "0.219195402299\n",
      "3.38617324561\n",
      "0.309238095238\n",
      "3.33124686717\n",
      "0.311031978774\n",
      "3.23608339029\n",
      "0.229635416667\n",
      "3.13067434211\n",
      "0.211910656393\n",
      "2.93054065452\n",
      "0.290471952037\n",
      "3.24212724994\n",
      "0.284911308204\n",
      "3.27944145401\n",
      "0.271070082363\n",
      "3.18541432123\n",
      "0.262807692308\n",
      "3.24944078947\n",
      "0.378222407339\n",
      "3.22664586779\n",
      "0.435172494172\n",
      "3.12027193384\n",
      "0.397555542311\n",
      "3.26683998599\n",
      "0.478600595242\n",
      "2.93395099444\n",
      "0.428100563693\n",
      "3.07026070997\n",
      "0.329385964912\n",
      "3.08091165414\n",
      "0.372039944693\n",
      "3.26819368497\n",
      "0.370451753758\n",
      "3.15650984345\n",
      "0.344007488807\n",
      "3.3782819897\n",
      "0.395598559989\n",
      "3.1123449318\n",
      "0.361903840169\n",
      "3.20479436438\n",
      "0.376546941844\n",
      "3.41353719898\n",
      "0.442142510002\n",
      "3.31203603767\n"
     ]
    },
    {
     "data": {
      "image/png": "[encoded data removed]",
      "text/plain": [
       "<matplotlib.figure.Figure at 0x112aaaa10>"
      ]
     },
     "metadata": {},
     "output_type": "display_data"
    }
   ],
   "source": [
    "learning_curves(X_train, y_train, X_test, y_test)"
   ]
  },
  {
   "cell_type": "markdown",
   "metadata": {},
   "source": [
    "## Question 7\n",
    "*Choose one of the learning curve graphs that are created above. What is the max depth for the chosen model? As the size of the training set increases, what happens to the training error? What happens to the testing error?*"
   ]
  },
  {
   "cell_type": "markdown",
   "metadata": {},
   "source": [
    "**Answer: **\n",
    "Max depth=10\n",
    "\n",
    "As training set increases, training error increases and testing error decreases. Eventually all changes level off.\n",
    "\n"
   ]
  },
  {
   "cell_type": "markdown",
   "metadata": {},
   "source": [
    "## Question 8\n",
    "*Look at the learning curve graphs for the model with a max depth of 1 and a max depth of 10. When the model is using the full training set, does it suffer from high bias or high variance when the max depth is 1? What about when the max depth is 10?*"
   ]
  },
  {
   "cell_type": "markdown",
   "metadata": {},
   "source": [
    "**Answer: **\n",
    "Max depth=1 with fulldata set:\n",
    "\n",
    "Relatively high training error=> suffers from high bias\n",
    "\n",
    "Max depth=10 with fulldata set:\n",
    "\n",
    "Relatively high testing error=> suffers from high variance\n"
   ]
  },
  {
   "cell_type": "code",
   "execution_count": 123,
   "metadata": {
    "collapsed": false
   },
   "outputs": [
    {
     "name": "stdout",
     "output_type": "stream",
     "text": [
      "Creating a model complexity graph. . . \n",
      "5.07811571408\n",
      "5.30863374564\n",
      "3.56392928056\n",
      "3.7172954728\n",
      "2.91249987787\n",
      "3.82241218615\n",
      "2.3581522976\n",
      "3.32583004017\n",
      "1.8770107798\n",
      "3.34385955394\n",
      "1.55941700982\n",
      "3.22476982762\n",
      "1.16348499031\n",
      "3.08202365723\n",
      "0.906211073787\n",
      "3.1779499948\n",
      "0.634949458244\n",
      "3.26857296338\n",
      "0.442142510002\n",
      "3.40808866925\n",
      "0.289249118741\n",
      "3.38547254555\n",
      "0.170626177024\n",
      "3.45533991228\n",
      "0.0968173258004\n",
      "3.47603070175\n"
     ]
    },
    {
     "data": {
      "image/png": "[encoded data removed]",
      "text/plain": [
       "<matplotlib.figure.Figure at 0x1121ba7d0>"
      ]
     },
     "metadata": {},
     "output_type": "display_data"
    }
   ],
   "source": [
    "model_complexity(X_train, y_train, X_test, y_test)"
   ]
  },
  {
   "cell_type": "markdown",
   "metadata": {},
   "source": [
    "## Question 9\n",
    "*From the model complexity graph above, describe the training and testing errors as the max depth increases. Based on your interpretation of the graph, which max depth results in a model that best generalizes the dataset? Why?*"
   ]
  },
  {
   "cell_type": "markdown",
   "metadata": {},
   "source": [
    "**Answer: **\n",
    "I would pick a max depth of 4 because it has relatively low testing error and the difference between testing and training is kept low as well. "
   ]
  },
  {
   "cell_type": "markdown",
   "metadata": {},
   "source": [
    "# Model Prediction\n",
    "In this final section of the project, you will make a prediction on the client's feature set using an optimized model from `fit_model`. When applying grid search along with cross-validation to optimize your model, it would typically be performed and validated on a training set and subsequently evaluated on a **dedicated test set**. In this project, the optimization below is performed on the *entire dataset* (as opposed to the training set you made above) due to the many outliers in the data. Using the entire dataset for training provides for a less volatile prediction at the expense of not testing your model's performance. \n",
    "\n",
    "*To answer the following questions, it is recommended that you run the code blocks several times and use the median or mean value of the results.*"
   ]
  },
  {
   "cell_type": "markdown",
   "metadata": {},
   "source": [
    "## Question 10\n",
    "*Using grid search on the entire dataset, what is the optimal `max_depth` parameter for your model? How does this result compare to your intial intuition?*  \n",
    "**Hint: ** Run the code block below to see the max depth produced by your optimized model."
   ]
  },
  {
   "cell_type": "code",
   "execution_count": 126,
   "metadata": {
    "collapsed": false
   },
   "outputs": [
    {
     "name": "stdout",
     "output_type": "stream",
     "text": [
      "Final model has an optimal max_depth parameter of 4\n"
     ]
    }
   ],
   "source": [
    "print \"Final model has an optimal max_depth parameter of\", reg.get_params()['max_depth']"
   ]
  },
  {
   "cell_type": "markdown",
   "metadata": {},
   "source": [
    "**Answer: ** \n",
    "The average optimal max depth is around 4.5 or 5 which was around my prediction. "
   ]
  },
  {
   "cell_type": "markdown",
   "metadata": {},
   "source": [
    "## Question 11\n",
    "*With your parameter-tuned model, what is the best selling price for your client's home? How does this selling price compare to the basic statistics you calculated on the dataset?*  \n",
    "\n",
    "**Hint: ** Run the code block below to have your parameter-tuned model make a prediction on the client's home."
   ]
  },
  {
   "cell_type": "code",
   "execution_count": 125,
   "metadata": {
    "collapsed": false
   },
   "outputs": [
    {
     "name": "stdout",
     "output_type": "stream",
     "text": [
      "Predicted value of client's home: 21.630\n"
     ]
    }
   ],
   "source": [
    "sale_price = reg.predict(CLIENT_FEATURES)\n",
    "print \"Predicted value of client's home: {0:.3f}\".format(sale_price[0])"
   ]
  },
  {
   "cell_type": "markdown",
   "metadata": {},
   "source": [
    "**Answer: **\n",
    "Predicted selling price of my client's home according to current fit would be 21.63 which is between the median and mean of the data."
   ]
  },
  {
   "cell_type": "markdown",
   "metadata": {},
   "source": [
    "## Question 12 (Final Question):\n",
    "*In a few sentences, discuss whether you would use this model or not to predict the selling price of future clients' homes in the Greater Boston area.*"
   ]
  },
  {
   "cell_type": "markdown",
   "metadata": {},
   "source": [
    "**Answer: **\n",
    "This seems like a reasonable model for prediction. The max depth seems like a very good choice. It doesn't suffer from too much variance or bias and the testing error is very low. I would be wary of homes with outlying features and I would like to be more familiar with the decision tree regressor before making a recommendation.  "
   ]
  },
  {
   "cell_type": "code",
   "execution_count": null,
   "metadata": {
    "collapsed": true
   },
   "outputs": [],
   "source": []
  },
  {
   "cell_type": "code",
   "execution_count": null,
   "metadata": {
    "collapsed": true
   },
   "outputs": [],
   "source": []
  }
 ],
 "metadata": {
  "kernelspec": {
   "display_name": "Python 2",
   "language": "python",
   "name": "python2"
  },
  "language_info": {
   "codemirror_mode": {
    "name": "ipython",
    "version": 2
   },
   "file_extension": ".py",
   "mimetype": "text/x-python",
   "name": "python",
   "nbconvert_exporter": "python",
   "pygments_lexer": "ipython2",
   "version": "2.7.11"
  }
 },
 "nbformat": 4,
 "nbformat_minor": 0
}
